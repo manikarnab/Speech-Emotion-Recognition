{
 "cells": [
  {
   "cell_type": "code",
   "execution_count": 1,
   "metadata": {},
   "outputs": [],
   "source": [
    "import os\n",
    "import pandas as pd\n",
    "import seaborn as sns\n",
    "import matplotlib.pyplot as plt\n",
    "import numpy as np\n",
    "from scipy.io import wavfile\n",
    "\n",
    "import glob\n",
    "from tqdm import tqdm\n",
    "import librosa\n",
    "from IPython.display import Audio\n",
    "\n",
    "from sklearn.preprocessing import OneHotEncoder\n",
    "from sklearn.model_selection import train_test_split\n",
    "from sklearn.preprocessing import StandardScaler\n",
    "from keras.models import Sequential\n",
    "from keras.layers import SimpleRNN, Dense, Dropout\n",
    "import tensorflow as tf\n",
    "from tensorflow import keras\n",
    "from keras.models import Sequential\n",
    "\n",
    "from keras.layers import BatchNormalization\n",
    "from keras.optimizers import Adam\n",
    "from keras.callbacks import ReduceLROnPlateau, EarlyStopping\n",
    "from sklearn.metrics import confusion_matrix\n",
    "from sklearn.metrics import classification_report\n"
   ]
  },
  {
   "cell_type": "code",
   "execution_count": 2,
   "metadata": {},
   "outputs": [],
   "source": [
    "def envelope(y , rate, threshold):\n",
    "    mask=[]\n",
    "    y=pd.Series(y).apply(np.abs)\n",
    "    y_mean = y.rolling(window=int(rate/10) ,  min_periods=1 , center = True).mean()\n",
    "    for mean in y_mean:\n",
    "        if mean>threshold:\n",
    "            mask.append(True)\n",
    "        else:\n",
    "            mask.append(False)\n",
    "    return mask"
   ]
  },
  {
   "cell_type": "code",
   "execution_count": 3,
   "metadata": {},
   "outputs": [
    {
     "name": "stderr",
     "output_type": "stream",
     "text": [
      "100%|██████████| 1440/1440 [00:30<00:00, 47.65it/s]\n"
     ]
    }
   ],
   "source": [
    "import glob,pickle\n",
    "for file in tqdm(glob.glob(r'C:\\Users\\91954\\SEAn\\RAVDESS\\\\**\\\\*.wav')):\n",
    "    file_name = os.path.basename(file)\n",
    "    signal , rate = librosa.load(file, sr=16000)\n",
    "    mask = envelope(signal,rate, 0.0005)\n",
    "    wavfile.write(filename= r'C:\\Users\\91954\\SEAn\\Clean\\\\'+str(file_name), rate=rate,data=signal[mask])"
   ]
  },
  {
   "cell_type": "code",
   "execution_count": 4,
   "metadata": {},
   "outputs": [
    {
     "data": {
      "text/html": [
       "<div>\n",
       "<style scoped>\n",
       "    .dataframe tbody tr th:only-of-type {\n",
       "        vertical-align: middle;\n",
       "    }\n",
       "\n",
       "    .dataframe tbody tr th {\n",
       "        vertical-align: top;\n",
       "    }\n",
       "\n",
       "    .dataframe thead th {\n",
       "        text-align: right;\n",
       "    }\n",
       "</style>\n",
       "<table border=\"1\" class=\"dataframe\">\n",
       "  <thead>\n",
       "    <tr style=\"text-align: right;\">\n",
       "      <th></th>\n",
       "      <th>Emotions</th>\n",
       "      <th>Path</th>\n",
       "    </tr>\n",
       "  </thead>\n",
       "  <tbody>\n",
       "    <tr>\n",
       "      <th>0</th>\n",
       "      <td>neutral</td>\n",
       "      <td>C:\\Users\\91954\\SEAn\\Clean\\03-01-01-01-01-01-01...</td>\n",
       "    </tr>\n",
       "    <tr>\n",
       "      <th>1</th>\n",
       "      <td>neutral</td>\n",
       "      <td>C:\\Users\\91954\\SEAn\\Clean\\03-01-01-01-01-01-02...</td>\n",
       "    </tr>\n",
       "    <tr>\n",
       "      <th>2</th>\n",
       "      <td>neutral</td>\n",
       "      <td>C:\\Users\\91954\\SEAn\\Clean\\03-01-01-01-01-01-03...</td>\n",
       "    </tr>\n",
       "    <tr>\n",
       "      <th>3</th>\n",
       "      <td>neutral</td>\n",
       "      <td>C:\\Users\\91954\\SEAn\\Clean\\03-01-01-01-01-01-04...</td>\n",
       "    </tr>\n",
       "    <tr>\n",
       "      <th>4</th>\n",
       "      <td>neutral</td>\n",
       "      <td>C:\\Users\\91954\\SEAn\\Clean\\03-01-01-01-01-01-05...</td>\n",
       "    </tr>\n",
       "  </tbody>\n",
       "</table>\n",
       "</div>"
      ],
      "text/plain": [
       "  Emotions                                               Path\n",
       "0  neutral  C:\\Users\\91954\\SEAn\\Clean\\03-01-01-01-01-01-01...\n",
       "1  neutral  C:\\Users\\91954\\SEAn\\Clean\\03-01-01-01-01-01-02...\n",
       "2  neutral  C:\\Users\\91954\\SEAn\\Clean\\03-01-01-01-01-01-03...\n",
       "3  neutral  C:\\Users\\91954\\SEAn\\Clean\\03-01-01-01-01-01-04...\n",
       "4  neutral  C:\\Users\\91954\\SEAn\\Clean\\03-01-01-01-01-01-05..."
      ]
     },
     "execution_count": 4,
     "metadata": {},
     "output_type": "execute_result"
    }
   ],
   "source": [
    "import os\n",
    "import pandas as pd\n",
    "\n",
    "Clean = r'C:\\Users\\91954\\SEAn\\Clean'\n",
    "\n",
    "# Create ravdess data frame.\n",
    "clean_directory_list = os.listdir(Clean)\n",
    "\n",
    "file_emotion = []\n",
    "file_path = []\n",
    "for actor_file in clean_directory_list:\n",
    "    if actor_file.endswith('.wav'):\n",
    "        part = actor_file.split('.')[0]\n",
    "        part = part.split('-')\n",
    "        # Check if part has at least 3 elements before accessing part[2]\n",
    "        if len(part) >= 3:\n",
    "            file_emotion.append(int(part[2]))\n",
    "            file_path.append(os.path.join(Clean, actor_file))\n",
    "\n",
    "emotion_df = pd.DataFrame(file_emotion, columns=['Emotions'])\n",
    "path_df = pd.DataFrame(file_path, columns=['Path'])\n",
    "Clean_df = pd.concat([emotion_df, path_df], axis=1)\n",
    "\n",
    "# Changing integers to actual emotions.\n",
    "Clean_df['Emotions'].replace({1:'neutral', 2:'calm', 3:'happy', 4:'sad', 5:'angry', 6:'fear', 7:'disgust', 8:'surprise'}, inplace=True)\n",
    "Clean_df.head()\n"
   ]
  },
  {
   "cell_type": "code",
   "execution_count": 5,
   "metadata": {},
   "outputs": [
    {
     "data": {
      "text/html": [
       "<div>\n",
       "<style scoped>\n",
       "    .dataframe tbody tr th:only-of-type {\n",
       "        vertical-align: middle;\n",
       "    }\n",
       "\n",
       "    .dataframe tbody tr th {\n",
       "        vertical-align: top;\n",
       "    }\n",
       "\n",
       "    .dataframe thead th {\n",
       "        text-align: right;\n",
       "    }\n",
       "</style>\n",
       "<table border=\"1\" class=\"dataframe\">\n",
       "  <thead>\n",
       "    <tr style=\"text-align: right;\">\n",
       "      <th></th>\n",
       "      <th>Emotions</th>\n",
       "      <th>Path</th>\n",
       "    </tr>\n",
       "  </thead>\n",
       "  <tbody>\n",
       "    <tr>\n",
       "      <th>0</th>\n",
       "      <td>neutral</td>\n",
       "      <td>C:\\Users\\91954\\SEAn\\Clean\\03-01-01-01-01-01-01...</td>\n",
       "    </tr>\n",
       "    <tr>\n",
       "      <th>1</th>\n",
       "      <td>neutral</td>\n",
       "      <td>C:\\Users\\91954\\SEAn\\Clean\\03-01-01-01-01-01-02...</td>\n",
       "    </tr>\n",
       "    <tr>\n",
       "      <th>2</th>\n",
       "      <td>neutral</td>\n",
       "      <td>C:\\Users\\91954\\SEAn\\Clean\\03-01-01-01-01-01-03...</td>\n",
       "    </tr>\n",
       "    <tr>\n",
       "      <th>3</th>\n",
       "      <td>neutral</td>\n",
       "      <td>C:\\Users\\91954\\SEAn\\Clean\\03-01-01-01-01-01-04...</td>\n",
       "    </tr>\n",
       "    <tr>\n",
       "      <th>4</th>\n",
       "      <td>neutral</td>\n",
       "      <td>C:\\Users\\91954\\SEAn\\Clean\\03-01-01-01-01-01-05...</td>\n",
       "    </tr>\n",
       "  </tbody>\n",
       "</table>\n",
       "</div>"
      ],
      "text/plain": [
       "  Emotions                                               Path\n",
       "0  neutral  C:\\Users\\91954\\SEAn\\Clean\\03-01-01-01-01-01-01...\n",
       "1  neutral  C:\\Users\\91954\\SEAn\\Clean\\03-01-01-01-01-01-02...\n",
       "2  neutral  C:\\Users\\91954\\SEAn\\Clean\\03-01-01-01-01-01-03...\n",
       "3  neutral  C:\\Users\\91954\\SEAn\\Clean\\03-01-01-01-01-01-04...\n",
       "4  neutral  C:\\Users\\91954\\SEAn\\Clean\\03-01-01-01-01-01-05..."
      ]
     },
     "execution_count": 5,
     "metadata": {},
     "output_type": "execute_result"
    }
   ],
   "source": [
    "data_path=Clean_df\n",
    "data_path.to_csv(\"data_path.csv\",index=False)\n",
    "data_path.head()"
   ]
  },
  {
   "cell_type": "code",
   "execution_count": 6,
   "metadata": {},
   "outputs": [],
   "source": [
    "def noise(data):\n",
    "    noise_amp = 0.035*np.random.uniform()*np.amax(data)\n",
    "    data = data + noise_amp*np.random.normal(size=data.shape[0])\n",
    "    return data\n",
    "def stretch(data, rate=0.8):\n",
    "    return librosa.effects.time_stretch(data, rate=rate)\n",
    "\n",
    "def shift(data):\n",
    "    shift_range = int(np.random.uniform(low=-5, high = 5)*1000)\n",
    "    return np.roll(data, shift_range)\n",
    "def pitch(data, sampling_rate, pitch_factor=0.7):\n",
    "    return librosa.effects.pitch_shift(data, sr=sampling_rate, n_steps=pitch_factor)\n",
    "\n",
    "# taking any example and checking for techniques.\n",
    "path = np.array(data_path.Path)[1]\n",
    "data, sample_rate = librosa.load(path)"
   ]
  },
  {
   "cell_type": "code",
   "execution_count": 7,
   "metadata": {},
   "outputs": [],
   "source": [
    "def extract_features(data, sample_rate):\n",
    "    result = np.array([])\n",
    "    \n",
    "    # MFCC\n",
    "    mfcc = np.mean(librosa.feature.mfcc(y=data, sr=sample_rate).T, axis=0)\n",
    "    result = np.hstack((result, mfcc)) # stacking horizontally\n",
    "    \n",
    "    # Chroma_stft\n",
    "    stft = np.abs(librosa.stft(data))\n",
    "    chroma_stft = np.mean(librosa.feature.chroma_stft(S=stft, sr=sample_rate).T, axis=0)\n",
    "    result = np.hstack((result, chroma_stft)) # stacking horizontally\n",
    "    \n",
    "    # MelSpectogram\n",
    "    mel = np.mean(librosa.feature.melspectrogram(y=data, sr=sample_rate).T, axis=0)\n",
    "    result = np.hstack((result, mel)) # stacking horizontally\n",
    "    \n",
    "    # ZCR\n",
    "    zcr = np.mean(librosa.feature.zero_crossing_rate(y=data).T, axis=0)\n",
    "    result = np.hstack((result, zcr)) # stacking horizontally\n",
    "\n",
    "    # Root Mean Square Value\n",
    "    rms = np.mean(librosa.feature.rms(y=data).T, axis=0)\n",
    "    result = np.hstack((result, rms)) # stacking horizontally\n",
    "\n",
    "    return result\n"
   ]
  },
  {
   "cell_type": "code",
   "execution_count": 8,
   "metadata": {},
   "outputs": [],
   "source": [
    "def get_features(path):\n",
    "    # duration and offset are used to take care of the no audio in start and the ending of each audio files as seen above.\n",
    "    data, sample_rate = librosa.load(path, duration=2.5, offset=0.6)\n",
    "    \n",
    "    # without augmentation\n",
    "    res1 = extract_features(data, sample_rate)\n",
    "    result = np.array(res1)\n",
    "    \n",
    "    # data with noise\n",
    "    noise_data = noise(data)\n",
    "    res2 = extract_features(noise_data, sample_rate)\n",
    "    result = np.vstack((result, res2)) # stacking vertically\n",
    "    \n",
    "    # data with stretching and pitching\n",
    "    new_data = stretch(data)\n",
    "    data_stretch_pitch = pitch(new_data, sample_rate)\n",
    "    res3 = extract_features(data_stretch_pitch, sample_rate)\n",
    "    result = np.vstack((result, res3)) # stacking vertically\n",
    "    \n",
    "    return result\n"
   ]
  },
  {
   "cell_type": "code",
   "execution_count": 9,
   "metadata": {},
   "outputs": [
    {
     "name": "stdout",
     "output_type": "stream",
     "text": [
      "Error processing file C:\\Users\\91954\\SEAn\\Clean\\03-01-04-01-01-01-09.wav: module 'soundfile' has no attribute 'SoundFileRuntimeError'\n",
      "Error processing file C:\\Users\\91954\\SEAn\\Clean\\03-01-04-01-01-02-09.wav: module 'soundfile' has no attribute 'SoundFileRuntimeError'\n"
     ]
    }
   ],
   "source": [
    "X, Y = [], []\n",
    "\n",
    "for path, emotion in zip(data_path.Path, data_path.Emotions):\n",
    "    try:\n",
    "        feature = get_features(path)\n",
    "        for ele in feature:\n",
    "            X.append(ele)\n",
    "            # Appending emotion 3 times as we have made 3 augmentation techniques on each audio file.\n",
    "            Y.append(emotion)\n",
    "    except Exception as e:\n",
    "        print(f\"Error processing file {path}: {e}\")"
   ]
  },
  {
   "cell_type": "code",
   "execution_count": 10,
   "metadata": {},
   "outputs": [
    {
     "data": {
      "text/plain": [
       "(4314, 4314, (1440,))"
      ]
     },
     "execution_count": 10,
     "metadata": {},
     "output_type": "execute_result"
    }
   ],
   "source": [
    "len(X), len(Y), data_path.Path.shape"
   ]
  },
  {
   "cell_type": "code",
   "execution_count": 11,
   "metadata": {},
   "outputs": [
    {
     "data": {
      "text/html": [
       "<div>\n",
       "<style scoped>\n",
       "    .dataframe tbody tr th:only-of-type {\n",
       "        vertical-align: middle;\n",
       "    }\n",
       "\n",
       "    .dataframe tbody tr th {\n",
       "        vertical-align: top;\n",
       "    }\n",
       "\n",
       "    .dataframe thead th {\n",
       "        text-align: right;\n",
       "    }\n",
       "</style>\n",
       "<table border=\"1\" class=\"dataframe\">\n",
       "  <thead>\n",
       "    <tr style=\"text-align: right;\">\n",
       "      <th></th>\n",
       "      <th>0</th>\n",
       "      <th>1</th>\n",
       "      <th>2</th>\n",
       "      <th>3</th>\n",
       "      <th>4</th>\n",
       "      <th>5</th>\n",
       "      <th>6</th>\n",
       "      <th>7</th>\n",
       "      <th>8</th>\n",
       "      <th>9</th>\n",
       "      <th>...</th>\n",
       "      <th>153</th>\n",
       "      <th>154</th>\n",
       "      <th>155</th>\n",
       "      <th>156</th>\n",
       "      <th>157</th>\n",
       "      <th>158</th>\n",
       "      <th>159</th>\n",
       "      <th>160</th>\n",
       "      <th>161</th>\n",
       "      <th>labels</th>\n",
       "    </tr>\n",
       "  </thead>\n",
       "  <tbody>\n",
       "    <tr>\n",
       "      <th>0</th>\n",
       "      <td>-518.992737</td>\n",
       "      <td>185.130753</td>\n",
       "      <td>-29.358130</td>\n",
       "      <td>29.616070</td>\n",
       "      <td>5.253566</td>\n",
       "      <td>3.108177</td>\n",
       "      <td>-18.896374</td>\n",
       "      <td>-0.919874</td>\n",
       "      <td>-40.728683</td>\n",
       "      <td>-3.885707</td>\n",
       "      <td>...</td>\n",
       "      <td>2.624859e-09</td>\n",
       "      <td>2.512421e-09</td>\n",
       "      <td>2.428969e-09</td>\n",
       "      <td>2.369180e-09</td>\n",
       "      <td>2.325788e-09</td>\n",
       "      <td>2.297917e-09</td>\n",
       "      <td>2.280506e-09</td>\n",
       "      <td>0.036385</td>\n",
       "      <td>0.005305</td>\n",
       "      <td>neutral</td>\n",
       "    </tr>\n",
       "    <tr>\n",
       "      <th>1</th>\n",
       "      <td>-434.313394</td>\n",
       "      <td>94.991475</td>\n",
       "      <td>19.540946</td>\n",
       "      <td>11.068312</td>\n",
       "      <td>11.985902</td>\n",
       "      <td>-1.270938</td>\n",
       "      <td>-7.254986</td>\n",
       "      <td>-13.884048</td>\n",
       "      <td>-22.407243</td>\n",
       "      <td>-11.997847</td>\n",
       "      <td>...</td>\n",
       "      <td>1.845179e-05</td>\n",
       "      <td>1.720861e-05</td>\n",
       "      <td>1.494778e-05</td>\n",
       "      <td>1.582597e-05</td>\n",
       "      <td>1.588924e-05</td>\n",
       "      <td>1.562899e-05</td>\n",
       "      <td>1.668243e-05</td>\n",
       "      <td>0.071306</td>\n",
       "      <td>0.005331</td>\n",
       "      <td>neutral</td>\n",
       "    </tr>\n",
       "    <tr>\n",
       "      <th>2</th>\n",
       "      <td>-568.399902</td>\n",
       "      <td>178.415253</td>\n",
       "      <td>-31.896523</td>\n",
       "      <td>28.503258</td>\n",
       "      <td>2.871634</td>\n",
       "      <td>-2.732339</td>\n",
       "      <td>-18.670496</td>\n",
       "      <td>-6.066448</td>\n",
       "      <td>-45.463253</td>\n",
       "      <td>3.485139</td>\n",
       "      <td>...</td>\n",
       "      <td>1.693707e-09</td>\n",
       "      <td>1.563646e-09</td>\n",
       "      <td>1.464447e-09</td>\n",
       "      <td>1.399622e-09</td>\n",
       "      <td>1.362916e-09</td>\n",
       "      <td>1.085743e-09</td>\n",
       "      <td>4.234986e-10</td>\n",
       "      <td>0.050008</td>\n",
       "      <td>0.002943</td>\n",
       "      <td>neutral</td>\n",
       "    </tr>\n",
       "    <tr>\n",
       "      <th>3</th>\n",
       "      <td>-484.873474</td>\n",
       "      <td>151.879562</td>\n",
       "      <td>-47.949074</td>\n",
       "      <td>18.851910</td>\n",
       "      <td>-25.641949</td>\n",
       "      <td>-0.594666</td>\n",
       "      <td>-15.072431</td>\n",
       "      <td>-14.307671</td>\n",
       "      <td>-10.783791</td>\n",
       "      <td>-3.619339</td>\n",
       "      <td>...</td>\n",
       "      <td>8.251591e-09</td>\n",
       "      <td>7.988178e-09</td>\n",
       "      <td>7.792050e-09</td>\n",
       "      <td>7.653663e-09</td>\n",
       "      <td>7.553677e-09</td>\n",
       "      <td>7.491272e-09</td>\n",
       "      <td>7.451711e-09</td>\n",
       "      <td>0.063561</td>\n",
       "      <td>0.007698</td>\n",
       "      <td>neutral</td>\n",
       "    </tr>\n",
       "    <tr>\n",
       "      <th>4</th>\n",
       "      <td>-438.133347</td>\n",
       "      <td>98.128240</td>\n",
       "      <td>-12.438224</td>\n",
       "      <td>-3.620978</td>\n",
       "      <td>-11.320782</td>\n",
       "      <td>-9.690924</td>\n",
       "      <td>-9.385655</td>\n",
       "      <td>-15.239522</td>\n",
       "      <td>-10.915218</td>\n",
       "      <td>-3.673301</td>\n",
       "      <td>...</td>\n",
       "      <td>5.820392e-06</td>\n",
       "      <td>5.371649e-06</td>\n",
       "      <td>6.329094e-06</td>\n",
       "      <td>6.062996e-06</td>\n",
       "      <td>6.007296e-06</td>\n",
       "      <td>5.415374e-06</td>\n",
       "      <td>5.438653e-06</td>\n",
       "      <td>0.086978</td>\n",
       "      <td>0.007704</td>\n",
       "      <td>neutral</td>\n",
       "    </tr>\n",
       "  </tbody>\n",
       "</table>\n",
       "<p>5 rows × 163 columns</p>\n",
       "</div>"
      ],
      "text/plain": [
       "            0           1          2          3          4         5  \\\n",
       "0 -518.992737  185.130753 -29.358130  29.616070   5.253566  3.108177   \n",
       "1 -434.313394   94.991475  19.540946  11.068312  11.985902 -1.270938   \n",
       "2 -568.399902  178.415253 -31.896523  28.503258   2.871634 -2.732339   \n",
       "3 -484.873474  151.879562 -47.949074  18.851910 -25.641949 -0.594666   \n",
       "4 -438.133347   98.128240 -12.438224  -3.620978 -11.320782 -9.690924   \n",
       "\n",
       "           6          7          8          9  ...           153  \\\n",
       "0 -18.896374  -0.919874 -40.728683  -3.885707  ...  2.624859e-09   \n",
       "1  -7.254986 -13.884048 -22.407243 -11.997847  ...  1.845179e-05   \n",
       "2 -18.670496  -6.066448 -45.463253   3.485139  ...  1.693707e-09   \n",
       "3 -15.072431 -14.307671 -10.783791  -3.619339  ...  8.251591e-09   \n",
       "4  -9.385655 -15.239522 -10.915218  -3.673301  ...  5.820392e-06   \n",
       "\n",
       "            154           155           156           157           158  \\\n",
       "0  2.512421e-09  2.428969e-09  2.369180e-09  2.325788e-09  2.297917e-09   \n",
       "1  1.720861e-05  1.494778e-05  1.582597e-05  1.588924e-05  1.562899e-05   \n",
       "2  1.563646e-09  1.464447e-09  1.399622e-09  1.362916e-09  1.085743e-09   \n",
       "3  7.988178e-09  7.792050e-09  7.653663e-09  7.553677e-09  7.491272e-09   \n",
       "4  5.371649e-06  6.329094e-06  6.062996e-06  6.007296e-06  5.415374e-06   \n",
       "\n",
       "            159       160       161   labels  \n",
       "0  2.280506e-09  0.036385  0.005305  neutral  \n",
       "1  1.668243e-05  0.071306  0.005331  neutral  \n",
       "2  4.234986e-10  0.050008  0.002943  neutral  \n",
       "3  7.451711e-09  0.063561  0.007698  neutral  \n",
       "4  5.438653e-06  0.086978  0.007704  neutral  \n",
       "\n",
       "[5 rows x 163 columns]"
      ]
     },
     "execution_count": 11,
     "metadata": {},
     "output_type": "execute_result"
    }
   ],
   "source": [
    "Features = pd.DataFrame(X)\n",
    "Features['labels'] = Y\n",
    "Features.to_csv('features.csv', index=False)\n",
    "Features.head()"
   ]
  },
  {
   "cell_type": "code",
   "execution_count": 12,
   "metadata": {},
   "outputs": [],
   "source": [
    "# Assuming your data is stored in X and Y\n",
    "X = Features.iloc[:, :-1].values\n",
    "Y = Features['labels'].values"
   ]
  },
  {
   "cell_type": "code",
   "execution_count": 13,
   "metadata": {},
   "outputs": [],
   "source": [
    "# One-hot encode the target variable\n",
    "encoder = OneHotEncoder()\n",
    "Y = encoder.fit_transform(Y.reshape(-1, 1)).toarray()"
   ]
  },
  {
   "cell_type": "code",
   "execution_count": 14,
   "metadata": {},
   "outputs": [],
   "source": [
    "# Splitting the data into training and testing sets\n",
    "x_train, x_test, y_train, y_test = train_test_split(X, Y, test_size=0.2, random_state=42)"
   ]
  },
  {
   "cell_type": "code",
   "execution_count": 15,
   "metadata": {},
   "outputs": [],
   "source": [
    "# Scaling the features\n",
    "scaler = StandardScaler()\n",
    "x_train = scaler.fit_transform(x_train)\n",
    "x_test = scaler.transform(x_test)\n"
   ]
  },
  {
   "cell_type": "code",
   "execution_count": 16,
   "metadata": {},
   "outputs": [],
   "source": [
    "# Reshaping the input data for RNN\n",
    "x_train = np.reshape(x_train, (x_train.shape[0], 1, x_train.shape[1]))\n",
    "x_test = np.reshape(x_test, (x_test.shape[0], 1, x_test.shape[1]))\n"
   ]
  },
  {
   "cell_type": "code",
   "execution_count": 17,
   "metadata": {},
   "outputs": [
    {
     "data": {
      "text/plain": [
       "((3451, 1, 162), (3451, 8), (863, 1, 162), (863, 8))"
      ]
     },
     "execution_count": 17,
     "metadata": {},
     "output_type": "execute_result"
    }
   ],
   "source": [
    "x_train.shape, y_train.shape, x_test.shape, y_test.shape"
   ]
  },
  {
   "cell_type": "code",
   "execution_count": 18,
   "metadata": {},
   "outputs": [
    {
     "name": "stderr",
     "output_type": "stream",
     "text": [
      "WARNING:absl:`lr` is deprecated in Keras optimizer, please use `learning_rate` or use the legacy optimizer, e.g.,tf.keras.optimizers.legacy.Adam.\n"
     ]
    },
    {
     "name": "stdout",
     "output_type": "stream",
     "text": [
      "Model: \"sequential\"\n",
      "_________________________________________________________________\n",
      " Layer (type)                Output Shape              Param #   \n",
      "=================================================================\n",
      " simple_rnn (SimpleRNN)      (None, None, 128)         37248     \n",
      "                                                                 \n",
      " batch_normalization (Batch  (None, None, 128)         512       \n",
      " Normalization)                                                  \n",
      "                                                                 \n",
      " simple_rnn_1 (SimpleRNN)    (None, None, 128)         32896     \n",
      "                                                                 \n",
      " batch_normalization_1 (Bat  (None, None, 128)         512       \n",
      " chNormalization)                                                \n",
      "                                                                 \n",
      " simple_rnn_2 (SimpleRNN)    (None, None, 128)         32896     \n",
      "                                                                 \n",
      " batch_normalization_2 (Bat  (None, None, 128)         512       \n",
      " chNormalization)                                                \n",
      "                                                                 \n",
      " simple_rnn_3 (SimpleRNN)    (None, 128)               32896     \n",
      "                                                                 \n",
      " dropout (Dropout)           (None, 128)               0         \n",
      "                                                                 \n",
      " dense (Dense)               (None, 8)                 1032      \n",
      "                                                                 \n",
      "=================================================================\n",
      "Total params: 138504 (541.03 KB)\n",
      "Trainable params: 137736 (538.03 KB)\n",
      "Non-trainable params: 768 (3.00 KB)\n",
      "_________________________________________________________________\n"
     ]
    }
   ],
   "source": [
    "from keras.regularizers import l1, l2\n",
    "\n",
    "# Define the deep RNN model with batch normalization and increased units\n",
    "model_deep_rnn = Sequential()\n",
    "\n",
    "# Adding first Simple RNN layer with batch normalization and L2 regularization\n",
    "model_deep_rnn.add(SimpleRNN(units=128, activation='relu', return_sequences=True, input_shape=(None, x_train.shape[2]),\n",
    "                              kernel_regularizer=l2(0.01)))\n",
    "model_deep_rnn.add(BatchNormalization())\n",
    "\n",
    "# Adding second Simple RNN layer with batch normalization and L2 regularization\n",
    "model_deep_rnn.add(SimpleRNN(units=128, activation='relu', return_sequences=True,\n",
    "                              kernel_regularizer=l2(0.01)))\n",
    "model_deep_rnn.add(BatchNormalization())\n",
    "\n",
    "# Adding third Simple RNN layer with batch normalization and L2 regularization\n",
    "model_deep_rnn.add(SimpleRNN(units=128, activation='relu', return_sequences=True,\n",
    "                              kernel_regularizer=l2(0.01)))\n",
    "model_deep_rnn.add(BatchNormalization())\n",
    "\n",
    "# Adding fourth Simple RNN layer with L2 regularization\n",
    "model_deep_rnn.add(SimpleRNN(units=128, activation='relu', kernel_regularizer=l2(0.01)))\n",
    "\n",
    "# Adding dropout for regularization\n",
    "model_deep_rnn.add(Dropout(0.5))\n",
    "\n",
    "# Adding output layer\n",
    "model_deep_rnn.add(Dense(units=8, activation='softmax'))  # Assuming 8 classes for classification\n",
    "\n",
    "# Compile the model\n",
    "optimizer = Adam(lr=0.001)\n",
    "model_deep_rnn.compile(optimizer=optimizer, loss='categorical_crossentropy', metrics=['accuracy'])\n",
    "\n",
    "\n",
    "# Print the model summary\n",
    "model_deep_rnn.summary()\n"
   ]
  },
  {
   "cell_type": "code",
   "execution_count": 19,
   "metadata": {},
   "outputs": [
    {
     "name": "stdout",
     "output_type": "stream",
     "text": [
      "Epoch 1/50\n",
      "54/54 [==============================] - 5s 16ms/step - loss: 7.0128 - accuracy: 0.2651 - val_loss: 6.4878 - val_accuracy: 0.3951 - lr: 0.0010\n",
      "Epoch 2/50\n",
      "54/54 [==============================] - 0s 6ms/step - loss: 5.8646 - accuracy: 0.4193 - val_loss: 5.6804 - val_accuracy: 0.4751 - lr: 0.0010\n",
      "Epoch 3/50\n",
      "54/54 [==============================] - 0s 8ms/step - loss: 5.0487 - accuracy: 0.4935 - val_loss: 4.9476 - val_accuracy: 0.5110 - lr: 0.0010\n",
      "Epoch 4/50\n",
      "54/54 [==============================] - 0s 8ms/step - loss: 4.3142 - accuracy: 0.5706 - val_loss: 4.3217 - val_accuracy: 0.5272 - lr: 0.0010\n",
      "Epoch 5/50\n",
      "54/54 [==============================] - 0s 9ms/step - loss: 3.7655 - accuracy: 0.6010 - val_loss: 3.8069 - val_accuracy: 0.5330 - lr: 0.0010\n",
      "Epoch 6/50\n",
      "54/54 [==============================] - 0s 8ms/step - loss: 3.2433 - accuracy: 0.6514 - val_loss: 3.3705 - val_accuracy: 0.5597 - lr: 0.0010\n",
      "Epoch 7/50\n",
      "54/54 [==============================] - 0s 8ms/step - loss: 2.8402 - accuracy: 0.6902 - val_loss: 2.9910 - val_accuracy: 0.5933 - lr: 0.0010\n",
      "Epoch 8/50\n",
      "54/54 [==============================] - 0s 6ms/step - loss: 2.4802 - accuracy: 0.7241 - val_loss: 2.6357 - val_accuracy: 0.6176 - lr: 0.0010\n",
      "Epoch 9/50\n",
      "54/54 [==============================] - 0s 8ms/step - loss: 2.1909 - accuracy: 0.7488 - val_loss: 2.3809 - val_accuracy: 0.6396 - lr: 0.0010\n",
      "Epoch 10/50\n",
      "54/54 [==============================] - 0s 8ms/step - loss: 1.9755 - accuracy: 0.7772 - val_loss: 2.1939 - val_accuracy: 0.6477 - lr: 0.0010\n",
      "Epoch 11/50\n",
      "54/54 [==============================] - 1s 10ms/step - loss: 1.7924 - accuracy: 0.7841 - val_loss: 1.9834 - val_accuracy: 0.6929 - lr: 0.0010\n",
      "Epoch 12/50\n",
      "54/54 [==============================] - 0s 7ms/step - loss: 1.6269 - accuracy: 0.8047 - val_loss: 1.8658 - val_accuracy: 0.6813 - lr: 0.0010\n",
      "Epoch 13/50\n",
      "54/54 [==============================] - 0s 8ms/step - loss: 1.5105 - accuracy: 0.8064 - val_loss: 1.7524 - val_accuracy: 0.6837 - lr: 0.0010\n",
      "Epoch 14/50\n",
      "54/54 [==============================] - 0s 7ms/step - loss: 1.3991 - accuracy: 0.8279 - val_loss: 1.7043 - val_accuracy: 0.7022 - lr: 0.0010\n",
      "Epoch 15/50\n",
      "54/54 [==============================] - 0s 7ms/step - loss: 1.3195 - accuracy: 0.8314 - val_loss: 1.5857 - val_accuracy: 0.7184 - lr: 0.0010\n",
      "Epoch 16/50\n",
      "54/54 [==============================] - 1s 10ms/step - loss: 1.2449 - accuracy: 0.8476 - val_loss: 1.5330 - val_accuracy: 0.7381 - lr: 0.0010\n",
      "Epoch 17/50\n",
      "54/54 [==============================] - 0s 7ms/step - loss: 1.1992 - accuracy: 0.8496 - val_loss: 1.4947 - val_accuracy: 0.7242 - lr: 0.0010\n",
      "Epoch 18/50\n",
      "54/54 [==============================] - 0s 6ms/step - loss: 1.1000 - accuracy: 0.8676 - val_loss: 1.4050 - val_accuracy: 0.7346 - lr: 0.0010\n",
      "Epoch 19/50\n",
      "54/54 [==============================] - 0s 7ms/step - loss: 1.0657 - accuracy: 0.8693 - val_loss: 1.3489 - val_accuracy: 0.7346 - lr: 0.0010\n",
      "Epoch 20/50\n",
      "54/54 [==============================] - 0s 7ms/step - loss: 0.9731 - accuracy: 0.8945 - val_loss: 1.3713 - val_accuracy: 0.7381 - lr: 0.0010\n",
      "Epoch 21/50\n",
      "54/54 [==============================] - 0s 6ms/step - loss: 0.9911 - accuracy: 0.8725 - val_loss: 1.3387 - val_accuracy: 0.7323 - lr: 0.0010\n",
      "Epoch 22/50\n",
      "54/54 [==============================] - 0s 6ms/step - loss: 0.9650 - accuracy: 0.8751 - val_loss: 1.2928 - val_accuracy: 0.7578 - lr: 0.0010\n",
      "Epoch 23/50\n",
      "54/54 [==============================] - 0s 6ms/step - loss: 0.9110 - accuracy: 0.8939 - val_loss: 1.3582 - val_accuracy: 0.7323 - lr: 0.0010\n",
      "Epoch 24/50\n",
      "49/54 [==========================>...] - ETA: 0s - loss: 0.9148 - accuracy: 0.8801\n",
      "Epoch 24: ReduceLROnPlateau reducing learning rate to 0.0004000000189989805.\n",
      "54/54 [==============================] - 0s 6ms/step - loss: 0.9187 - accuracy: 0.8786 - val_loss: 1.3900 - val_accuracy: 0.7346 - lr: 0.0010\n",
      "Epoch 25/50\n",
      "54/54 [==============================] - 0s 6ms/step - loss: 0.7805 - accuracy: 0.9290 - val_loss: 1.1215 - val_accuracy: 0.8042 - lr: 4.0000e-04\n",
      "Epoch 26/50\n",
      "54/54 [==============================] - 0s 7ms/step - loss: 0.6790 - accuracy: 0.9635 - val_loss: 1.0423 - val_accuracy: 0.8262 - lr: 4.0000e-04\n",
      "Epoch 27/50\n",
      "54/54 [==============================] - 0s 6ms/step - loss: 0.6396 - accuracy: 0.9745 - val_loss: 1.0558 - val_accuracy: 0.8111 - lr: 4.0000e-04\n",
      "Epoch 28/50\n",
      "54/54 [==============================] - 0s 7ms/step - loss: 0.6119 - accuracy: 0.9748 - val_loss: 1.0252 - val_accuracy: 0.8192 - lr: 4.0000e-04\n",
      "Epoch 29/50\n",
      "54/54 [==============================] - 0s 6ms/step - loss: 0.5835 - accuracy: 0.9817 - val_loss: 0.9893 - val_accuracy: 0.8239 - lr: 4.0000e-04\n",
      "Epoch 30/50\n",
      "54/54 [==============================] - 0s 6ms/step - loss: 0.5623 - accuracy: 0.9797 - val_loss: 0.9844 - val_accuracy: 0.8285 - lr: 4.0000e-04\n",
      "Epoch 31/50\n",
      "54/54 [==============================] - 0s 7ms/step - loss: 0.5431 - accuracy: 0.9806 - val_loss: 1.0130 - val_accuracy: 0.8076 - lr: 4.0000e-04\n",
      "Epoch 32/50\n",
      "45/54 [========================>.....] - ETA: 0s - loss: 0.5288 - accuracy: 0.9806\n",
      "Epoch 32: ReduceLROnPlateau reducing learning rate to 0.00016000000759959222.\n",
      "54/54 [==============================] - 0s 6ms/step - loss: 0.5335 - accuracy: 0.9780 - val_loss: 1.0020 - val_accuracy: 0.8042 - lr: 4.0000e-04\n",
      "Epoch 33/50\n",
      "54/54 [==============================] - 0s 7ms/step - loss: 0.5069 - accuracy: 0.9835 - val_loss: 0.9484 - val_accuracy: 0.8355 - lr: 1.6000e-04\n",
      "Epoch 34/50\n",
      "54/54 [==============================] - 0s 7ms/step - loss: 0.4832 - accuracy: 0.9919 - val_loss: 0.9340 - val_accuracy: 0.8401 - lr: 1.6000e-04\n",
      "Epoch 35/50\n",
      "54/54 [==============================] - 0s 6ms/step - loss: 0.4757 - accuracy: 0.9901 - val_loss: 0.9261 - val_accuracy: 0.8378 - lr: 1.6000e-04\n",
      "Epoch 36/50\n",
      "54/54 [==============================] - 0s 6ms/step - loss: 0.4632 - accuracy: 0.9945 - val_loss: 0.9303 - val_accuracy: 0.8285 - lr: 1.6000e-04\n",
      "Epoch 37/50\n",
      "54/54 [==============================] - 0s 8ms/step - loss: 0.4536 - accuracy: 0.9948 - val_loss: 0.9230 - val_accuracy: 0.8378 - lr: 1.6000e-04\n",
      "Epoch 38/50\n",
      "54/54 [==============================] - 0s 7ms/step - loss: 0.4495 - accuracy: 0.9922 - val_loss: 0.9164 - val_accuracy: 0.8343 - lr: 1.6000e-04\n",
      "Epoch 39/50\n",
      "54/54 [==============================] - 0s 7ms/step - loss: 0.4454 - accuracy: 0.9930 - val_loss: 0.9142 - val_accuracy: 0.8204 - lr: 1.6000e-04\n",
      "Epoch 40/50\n",
      "54/54 [==============================] - 0s 8ms/step - loss: 0.4341 - accuracy: 0.9933 - val_loss: 0.8989 - val_accuracy: 0.8331 - lr: 1.6000e-04\n",
      "Epoch 41/50\n",
      "54/54 [==============================] - 0s 7ms/step - loss: 0.4244 - accuracy: 0.9962 - val_loss: 0.8995 - val_accuracy: 0.8366 - lr: 1.6000e-04\n",
      "Epoch 42/50\n",
      "54/54 [==============================] - ETA: 0s - loss: 0.4222 - accuracy: 0.9936\n",
      "Epoch 42: ReduceLROnPlateau reducing learning rate to 6.40000042039901e-05.\n",
      "54/54 [==============================] - 0s 8ms/step - loss: 0.4222 - accuracy: 0.9936 - val_loss: 0.9008 - val_accuracy: 0.8273 - lr: 1.6000e-04\n",
      "Epoch 43/50\n",
      "54/54 [==============================] - 0s 7ms/step - loss: 0.4119 - accuracy: 0.9936 - val_loss: 0.8919 - val_accuracy: 0.8331 - lr: 6.4000e-05\n",
      "Epoch 44/50\n",
      "54/54 [==============================] - 0s 8ms/step - loss: 0.4051 - accuracy: 0.9948 - val_loss: 0.8878 - val_accuracy: 0.8343 - lr: 6.4000e-05\n",
      "Epoch 45/50\n",
      "54/54 [==============================] - 0s 8ms/step - loss: 0.4051 - accuracy: 0.9968 - val_loss: 0.8817 - val_accuracy: 0.8331 - lr: 6.4000e-05\n",
      "Epoch 46/50\n",
      "54/54 [==============================] - 0s 7ms/step - loss: 0.3966 - accuracy: 0.9971 - val_loss: 0.8805 - val_accuracy: 0.8343 - lr: 6.4000e-05\n",
      "Epoch 47/50\n",
      "54/54 [==============================] - 0s 7ms/step - loss: 0.3977 - accuracy: 0.9971 - val_loss: 0.8797 - val_accuracy: 0.8355 - lr: 6.4000e-05\n",
      "Epoch 48/50\n",
      "54/54 [==============================] - 0s 7ms/step - loss: 0.3917 - accuracy: 0.9974 - val_loss: 0.8754 - val_accuracy: 0.8343 - lr: 6.4000e-05\n",
      "Epoch 49/50\n",
      "54/54 [==============================] - 1s 10ms/step - loss: 0.3863 - accuracy: 0.9980 - val_loss: 0.8717 - val_accuracy: 0.8401 - lr: 6.4000e-05\n",
      "Epoch 50/50\n",
      "54/54 [==============================] - 0s 8ms/step - loss: 0.3861 - accuracy: 0.9965 - val_loss: 0.8725 - val_accuracy: 0.8413 - lr: 6.4000e-05\n"
     ]
    }
   ],
   "source": [
    "# Define the ReduceLROnPlateau and EarlyStopping callbacks\n",
    "rlrp = ReduceLROnPlateau(monitor='val_loss', factor=0.4, verbose=1, patience=2, min_lr=1e-7)\n",
    "early_stopping = EarlyStopping(monitor='val_loss', patience=5, restore_best_weights=True)\n",
    "\n",
    "# Assuming x_train, y_train, x_test, and y_test are already defined and preprocessed\n",
    "# Train the model\n",
    "history_deeprnn = model_deep_rnn.fit(\n",
    "    x_train, y_train,\n",
    "    batch_size=64, epochs=50,\n",
    "    validation_data=(x_test, y_test),\n",
    "    callbacks=[rlrp, early_stopping]\n",
    ")\n",
    "\n"
   ]
  },
  {
   "cell_type": "code",
   "execution_count": 20,
   "metadata": {},
   "outputs": [
    {
     "name": "stdout",
     "output_type": "stream",
     "text": [
      "27/27 [==============================] - 0s 3ms/step - loss: 0.8725 - accuracy: 0.8413\n",
      "Accuracy of our model on test data :  84.12514328956604 %\n"
     ]
    }
   ],
   "source": [
    "print(\"Accuracy of our model on test data : \", model_deep_rnn.evaluate(x_test, y_test)[1] * 100, \"%\")"
   ]
  },
  {
   "cell_type": "code",
   "execution_count": 21,
   "metadata": {},
   "outputs": [
    {
     "name": "stdout",
     "output_type": "stream",
     "text": [
      "Accuracy on the training dataset: 0.9965227246284485\n",
      "Accuracy on the test dataset: 0.8412514328956604\n"
     ]
    }
   ],
   "source": [
    "train_accuracy = history_deeprnn.history['accuracy'][-1]\n",
    "print(\"Accuracy on the training dataset:\", train_accuracy)\n",
    "test_accuracy = history_deeprnn.history['val_accuracy'][-1]\n",
    "print(\"Accuracy on the test dataset:\", test_accuracy)\n"
   ]
  },
  {
   "cell_type": "code",
   "execution_count": 22,
   "metadata": {},
   "outputs": [
    {
     "data": {
      "image/png": "[encoded data removed]",
      "text/plain": [
       "<Figure size 2000x600 with 2 Axes>"
      ]
     },
     "metadata": {},
     "output_type": "display_data"
    }
   ],
   "source": [
    "import matplotlib.pyplot as plt\n",
    "\n",
    "# Get the actual number of epochs the model trained for\n",
    "epochs = range(len(history_deeprnn.history['accuracy']))\n",
    "\n",
    "fig, ax = plt.subplots(1, 2)\n",
    "\n",
    "train_acc_rnn = history_deeprnn.history['accuracy']\n",
    "train_loss_rnn = history_deeprnn.history['loss']\n",
    "test_acc_rnn = history_deeprnn.history['val_accuracy']\n",
    "test_loss_rnn = history_deeprnn.history['val_loss']\n",
    "\n",
    "fig.set_size_inches(20, 6)\n",
    "ax[0].plot(epochs, train_loss_rnn, label='Training Loss')\n",
    "ax[0].plot(epochs, test_loss_rnn, label='Testing Loss')\n",
    "ax[0].set_title('Training & Testing Loss')\n",
    "ax[0].legend()\n",
    "ax[0].set_xlabel(\"Epochs\")\n",
    "\n",
    "ax[1].plot(epochs, train_acc_rnn, label='Training Accuracy')\n",
    "ax[1].plot(epochs, test_acc_rnn, label='Testing Accuracy')\n",
    "ax[1].set_title('Training & Testing Accuracy')\n",
    "ax[1].legend()\n",
    "ax[1].set_xlabel(\"Epochs\")\n",
    "\n",
    "plt.show()\n"
   ]
  },
  {
   "cell_type": "code",
   "execution_count": 23,
   "metadata": {},
   "outputs": [
    {
     "name": "stdout",
     "output_type": "stream",
     "text": [
      "27/27 [==============================] - 1s 2ms/step\n",
      "              precision    recall  f1-score   support\n",
      "\n",
      "       angry       0.91      0.76      0.83       110\n",
      "        calm       0.89      0.93      0.91       117\n",
      "     disgust       0.82      0.85      0.83       110\n",
      "        fear       0.85      0.84      0.85       101\n",
      "       happy       0.76      0.84      0.80       121\n",
      "     neutral       0.89      0.71      0.79        68\n",
      "         sad       0.80      0.84      0.82       116\n",
      "    surprise       0.86      0.89      0.88       120\n",
      "\n",
      "    accuracy                           0.84       863\n",
      "   macro avg       0.85      0.83      0.84       863\n",
      "weighted avg       0.84      0.84      0.84       863\n",
      "\n"
     ]
    }
   ],
   "source": [
    "# Predicting on test data\n",
    "pred_test = model_deep_rnn.predict(x_test)\n",
    "\n",
    "# Convert predicted probabilities to class labels\n",
    "pred_test_labels = pred_test.argmax(axis=1)\n",
    "\n",
    "# Inverse transform the predicted labels to original labels\n",
    "y_pred = encoder.inverse_transform(pred_test)\n",
    "\n",
    "# Inverse transform the true test labels to original labels\n",
    "y_test_labels = encoder.inverse_transform(y_test)\n",
    "\n",
    "# Evaluate model performance\n",
    "from sklearn.metrics import classification_report, confusion_matrix\n",
    "\n",
    "print(classification_report(y_test_labels, y_pred))\n",
    "#print(confusion_matrix(y_test_labels, y_pred))\n"
   ]
  },
  {
   "cell_type": "code",
   "execution_count": 24,
   "metadata": {},
   "outputs": [
    {
     "name": "stdout",
     "output_type": "stream",
     "text": [
      "27/27 [==============================] - 0s 2ms/step\n"
     ]
    }
   ],
   "source": [
    "# predicting on test data.\n",
    "pred_test = model_deep_rnn.predict(x_test)\n",
    "y_pred = encoder.inverse_transform(pred_test)\n",
    "\n",
    "y_test = encoder.inverse_transform(y_test)"
   ]
  },
  {
   "cell_type": "code",
   "execution_count": 25,
   "metadata": {},
   "outputs": [
    {
     "data": {
      "text/html": [
       "<div>\n",
       "<style scoped>\n",
       "    .dataframe tbody tr th:only-of-type {\n",
       "        vertical-align: middle;\n",
       "    }\n",
       "\n",
       "    .dataframe tbody tr th {\n",
       "        vertical-align: top;\n",
       "    }\n",
       "\n",
       "    .dataframe thead th {\n",
       "        text-align: right;\n",
       "    }\n",
       "</style>\n",
       "<table border=\"1\" class=\"dataframe\">\n",
       "  <thead>\n",
       "    <tr style=\"text-align: right;\">\n",
       "      <th></th>\n",
       "      <th>Predicted Labels</th>\n",
       "      <th>Actual Labels</th>\n",
       "    </tr>\n",
       "  </thead>\n",
       "  <tbody>\n",
       "    <tr>\n",
       "      <th>0</th>\n",
       "      <td>surprise</td>\n",
       "      <td>surprise</td>\n",
       "    </tr>\n",
       "    <tr>\n",
       "      <th>1</th>\n",
       "      <td>surprise</td>\n",
       "      <td>disgust</td>\n",
       "    </tr>\n",
       "    <tr>\n",
       "      <th>2</th>\n",
       "      <td>disgust</td>\n",
       "      <td>angry</td>\n",
       "    </tr>\n",
       "    <tr>\n",
       "      <th>3</th>\n",
       "      <td>happy</td>\n",
       "      <td>happy</td>\n",
       "    </tr>\n",
       "    <tr>\n",
       "      <th>4</th>\n",
       "      <td>sad</td>\n",
       "      <td>sad</td>\n",
       "    </tr>\n",
       "    <tr>\n",
       "      <th>5</th>\n",
       "      <td>angry</td>\n",
       "      <td>angry</td>\n",
       "    </tr>\n",
       "    <tr>\n",
       "      <th>6</th>\n",
       "      <td>surprise</td>\n",
       "      <td>surprise</td>\n",
       "    </tr>\n",
       "    <tr>\n",
       "      <th>7</th>\n",
       "      <td>angry</td>\n",
       "      <td>angry</td>\n",
       "    </tr>\n",
       "    <tr>\n",
       "      <th>8</th>\n",
       "      <td>calm</td>\n",
       "      <td>calm</td>\n",
       "    </tr>\n",
       "    <tr>\n",
       "      <th>9</th>\n",
       "      <td>surprise</td>\n",
       "      <td>surprise</td>\n",
       "    </tr>\n",
       "  </tbody>\n",
       "</table>\n",
       "</div>"
      ],
      "text/plain": [
       "  Predicted Labels Actual Labels\n",
       "0         surprise      surprise\n",
       "1         surprise       disgust\n",
       "2          disgust         angry\n",
       "3            happy         happy\n",
       "4              sad           sad\n",
       "5            angry         angry\n",
       "6         surprise      surprise\n",
       "7            angry         angry\n",
       "8             calm          calm\n",
       "9         surprise      surprise"
      ]
     },
     "execution_count": 25,
     "metadata": {},
     "output_type": "execute_result"
    }
   ],
   "source": [
    "df = pd.DataFrame(columns=['Predicted Labels', 'Actual Labels'])\n",
    "df['Predicted Labels'] = y_pred.flatten()\n",
    "df['Actual Labels'] = y_test.flatten()\n",
    "\n",
    "df.head(10)"
   ]
  },
  {
   "cell_type": "code",
   "execution_count": 26,
   "metadata": {},
   "outputs": [
    {
     "data": {
      "image/png": "[encoded data removed]",
      "text/plain": [
       "<Figure size 1200x1000 with 2 Axes>"
      ]
     },
     "metadata": {},
     "output_type": "display_data"
    }
   ],
   "source": [
    "cm = confusion_matrix(y_test, y_pred)\n",
    "plt.figure(figsize = (12, 10))\n",
    "cm = pd.DataFrame(cm , index = [i for i in encoder.categories_] , columns = [i for i in encoder.categories_])\n",
    "sns.heatmap(cm, linecolor='white', cmap='Blues', linewidth=1, annot=True, fmt='')\n",
    "plt.title('Confusion Matrix', size=20)\n",
    "plt.xlabel('Predicted Labels', size=14)\n",
    "plt.ylabel('Actual Labels', size=14)\n",
    "plt.show()"
   ]
  },
  {
   "cell_type": "code",
   "execution_count": null,
   "metadata": {},
   "outputs": [],
   "source": []
  },
  {
   "cell_type": "code",
   "execution_count": 27,
   "metadata": {},
   "outputs": [
    {
     "ename": "NameError",
     "evalue": "name 'model' is not defined",
     "output_type": "error",
     "traceback": [
      "\u001b[1;31m---------------------------------------------------------------------------\u001b[0m",
      "\u001b[1;31mNameError\u001b[0m                                 Traceback (most recent call last)",
      "Cell \u001b[1;32mIn[27], line 2\u001b[0m\n\u001b[0;32m      1\u001b[0m \u001b[38;5;66;03m# Save the trained model\u001b[39;00m\n\u001b[1;32m----> 2\u001b[0m \u001b[43mmodel\u001b[49m\u001b[38;5;241m.\u001b[39msave(\u001b[38;5;124m'\u001b[39m\u001b[38;5;124mtrained_model.h5\u001b[39m\u001b[38;5;124m'\u001b[39m)\n\u001b[0;32m      3\u001b[0m \u001b[38;5;28mprint\u001b[39m(\u001b[38;5;124m\"\u001b[39m\u001b[38;5;124mModel saved successfully.\u001b[39m\u001b[38;5;124m\"\u001b[39m)\n",
      "\u001b[1;31mNameError\u001b[0m: name 'model' is not defined"
     ]
    }
   ],
   "source": [
    "# Save the trained model\n",
    "model.save('trained_model.h5')\n",
    "print(\"Model saved successfully.\")"
   ]
  },
  {
   "cell_type": "code",
   "execution_count": 28,
   "metadata": {},
   "outputs": [
    {
     "name": "stdout",
     "output_type": "stream",
     "text": [
      "Model saved successfully.\n"
     ]
    }
   ],
   "source": [
    "# Save the trained model in native Keras format\n",
    "model_deep_rnn.save('trained_model_rnn.keras')\n",
    "print(\"Model saved successfully.\")\n",
    "\n"
   ]
  },
  {
   "cell_type": "code",
   "execution_count": null,
   "metadata": {},
   "outputs": [],
   "source": []
  }
 ],
 "metadata": {
  "kernelspec": {
   "display_name": "Python 3 (ipykernel)",
   "language": "python",
   "name": "python3"
  },
  "language_info": {
   "codemirror_mode": {
    "name": "ipython",
    "version": 3
   },
   "file_extension": ".py",
   "mimetype": "text/x-python",
   "name": "python",
   "nbconvert_exporter": "python",
   "pygments_lexer": "ipython3",
   "version": "3.8.18"
  }
 },
 "nbformat": 4,
 "nbformat_minor": 4
}
